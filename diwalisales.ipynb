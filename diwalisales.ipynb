{
 "cells": [
  {
   "attachments": {},
   "cell_type": "markdown",
   "metadata": {},
   "source": [
    "# Diwali Sales Analysis"
   ]
  },
  {
   "cell_type": "code",
   "execution_count": null,
   "metadata": {},
   "outputs": [],
   "source": [
    "import pandas as pd\n",
    "import numpy as np\n",
    "import matplotlib.pyplot as plt\n",
    "import seaborn as sns"
   ]
  },
  {
   "cell_type": "code",
   "execution_count": null,
   "metadata": {},
   "outputs": [],
   "source": [
    "data = pd.read_csv(\"C:/Users/ARABHKS26 LENOVO/Downloads/Diwali Sales Data.csv\",encoding='unicode_escape')"
   ]
  },
  {
   "cell_type": "code",
   "execution_count": null,
   "metadata": {},
   "outputs": [],
   "source": [
    "# total rows and total columns in dataframe\n",
    "data.shape"
   ]
  },
  {
   "cell_type": "code",
   "execution_count": null,
   "metadata": {},
   "outputs": [],
   "source": [
    "# information about dataframe like not-null/null values, data types of columns etc.\n",
    "data.info()"
   ]
  },
  {
   "cell_type": "code",
   "execution_count": null,
   "metadata": {},
   "outputs": [],
   "source": [
    "#drop blank columns\n",
    "data.drop(['Status','unnamed1'],axis=1, inplace = True) # axis = 1(column),0(row)"
   ]
  },
  {
   "cell_type": "code",
   "execution_count": null,
   "metadata": {},
   "outputs": [],
   "source": [
    "# check for any null values\n",
    "pd.isnull(data).sum()"
   ]
  },
  {
   "cell_type": "code",
   "execution_count": null,
   "metadata": {},
   "outputs": [],
   "source": [
    "# drop all null values\n",
    "data.dropna(inplace=True) # inplace parameter for permanent change"
   ]
  },
  {
   "cell_type": "code",
   "execution_count": null,
   "metadata": {},
   "outputs": [],
   "source": [
    "# recheck for any null values\n",
    "pd.isnull(data).sum()"
   ]
  },
  {
   "cell_type": "code",
   "execution_count": null,
   "metadata": {},
   "outputs": [],
   "source": [
    "# change datatype of columns\n",
    "data['Amount'] = data['Amount'].astype('int')\n",
    "#or\n",
    "#data['Amount'] = pd.to_numeric(data['Amount'])"
   ]
  },
  {
   "cell_type": "code",
   "execution_count": null,
   "metadata": {},
   "outputs": [],
   "source": [
    "# rename columns\n",
    "data.rename(columns= {'Age Group':'Age_Group'},inplace=True)"
   ]
  },
  {
   "cell_type": "code",
   "execution_count": null,
   "metadata": {},
   "outputs": [],
   "source": [
    "# use describe for dataframe\n",
    "data.describe()"
   ]
  },
  {
   "attachments": {},
   "cell_type": "markdown",
   "metadata": {},
   "source": [
    "**Exploratory Data Analysis**"
   ]
  },
  {
   "attachments": {},
   "cell_type": "markdown",
   "metadata": {},
   "source": [
    "1. *Gender*"
   ]
  },
  {
   "cell_type": "code",
   "execution_count": null,
   "metadata": {},
   "outputs": [],
   "source": [
    "a = sns.countplot(x = 'Gender',data = data) # bar graph\n",
    "\n",
    "for bars in a.containers:\n",
    "    a.bar_label(bars)       # for values labels"
   ]
  },
  {
   "cell_type": "code",
   "execution_count": null,
   "metadata": {},
   "outputs": [],
   "source": [
    "spend_gender = data.groupby(['Gender'], as_index = False) ['Amount'].sum().sort_values(by=\"Amount\",ascending = False)\n",
    "\n",
    "sns.barplot(x = 'Gender', y = 'Amount', data = spend_gender)"
   ]
  },
  {
   "attachments": {},
   "cell_type": "markdown",
   "metadata": {},
   "source": [
    "From the above graphs we can see that most of the buyers are females and even the spending of females age greater than males."
   ]
  },
  {
   "attachments": {},
   "cell_type": "markdown",
   "metadata": {},
   "source": [
    "2. *Age*"
   ]
  },
  {
   "cell_type": "code",
   "execution_count": null,
   "metadata": {},
   "outputs": [],
   "source": [
    "b = sns.countplot(data = data, x = 'Age_Group', hue = 'Gender') # bar graph, hue for legends\n",
    "\n",
    "for bars in b.containers:\n",
    "    b.bar_label(bars)       # for values labels"
   ]
  },
  {
   "cell_type": "code",
   "execution_count": null,
   "metadata": {},
   "outputs": [],
   "source": [
    "spend_age = data.groupby(['Age_Group'], as_index = False) ['Amount'].sum().sort_values(by=\"Amount\",ascending = False)\n",
    "\n",
    "sns.barplot(x = 'Age_Group', y = 'Amount', data = spend_age)"
   ]
  },
  {
   "attachments": {},
   "cell_type": "markdown",
   "metadata": {},
   "source": [
    "From above graphs we can see that most of the buyers are of age group betwnn 26-35 yrs female."
   ]
  },
  {
   "attachments": {},
   "cell_type": "markdown",
   "metadata": {},
   "source": [
    "3. *State*"
   ]
  },
  {
   "cell_type": "code",
   "execution_count": null,
   "metadata": {},
   "outputs": [],
   "source": [
    "# total number of orders from top 10 states\n",
    "no_of_orders = data.groupby(['State'], as_index = False) ['Orders'].sum().sort_values(by=\"Orders\",ascending = False).head(10)\n",
    "\n",
    "sns.set(rc={'figure.figsize':(15,5)})\n",
    "sns.barplot(x = 'State', y = 'Orders', data = no_of_orders)"
   ]
  },
  {
   "cell_type": "code",
   "execution_count": null,
   "metadata": {},
   "outputs": [],
   "source": [
    "# total amount/sales from top 10 states\n",
    "total_sales = data.groupby(['State'], as_index = False) ['Amount'].sum().sort_values(by=\"Amount\",ascending = False).head(10)\n",
    "\n",
    "sns.set(rc={'figure.figsize':(15,5)})\n",
    "sns.barplot(x = 'State', y = 'Amount', data = total_sales)"
   ]
  },
  {
   "attachments": {},
   "cell_type": "markdown",
   "metadata": {},
   "source": [
    "From above graphs we can see that unexpectedly most of the orders are from Uttar Pradesh follow by Maharashtra respectively but total sales/amount is from UP, Karnataka and then Maharashtra."
   ]
  },
  {
   "attachments": {},
   "cell_type": "markdown",
   "metadata": {},
   "source": [
    "4. *Marital Status*"
   ]
  },
  {
   "cell_type": "code",
   "execution_count": null,
   "metadata": {},
   "outputs": [],
   "source": [
    "c = sns.countplot(data = data, x = 'Marital_Status') # bar graph, hue for legends\n",
    "\n",
    "sns.set(rc={'figure.figsize':(8,5)})\n",
    "for bars in c.containers:\n",
    "    c.bar_label(bars)       # for values labels"
   ]
  },
  {
   "cell_type": "code",
   "execution_count": null,
   "metadata": {},
   "outputs": [],
   "source": [
    "sales = data.groupby(['Marital_Status','Gender'], as_index = False) ['Amount'].sum().sort_values(by=\"Amount\",ascending = False)\n",
    "\n",
    "sns.set(rc={'figure.figsize':(8,5)})\n",
    "sns.barplot(x = 'Marital_Status', y = 'Amount', hue = 'Gender', data = sales)"
   ]
  },
  {
   "attachments": {},
   "cell_type": "markdown",
   "metadata": {},
   "source": [
    "\n",
    "From above graphs we can see that most of the buyers are marrid(women) and they have high spending."
   ]
  },
  {
   "attachments": {},
   "cell_type": "markdown",
   "metadata": {},
   "source": [
    "5. *Occupation*"
   ]
  },
  {
   "cell_type": "code",
   "execution_count": null,
   "metadata": {},
   "outputs": [],
   "source": [
    "d = sns.countplot(data = data, x = 'Occupation') # bar graph, hue for legends\n",
    "\n",
    "sns.set(rc={'figure.figsize':(15,5)})\n",
    "for bars in d.containers:\n",
    "    d.bar_label(bars)       # for values labels"
   ]
  },
  {
   "cell_type": "code",
   "execution_count": null,
   "metadata": {},
   "outputs": [],
   "source": [
    "sales_sector = data.groupby(['Occupation'], as_index = False) ['Amount'].sum().sort_values(by=\"Amount\",ascending = False)\n",
    "\n",
    "sns.set(rc={'figure.figsize':(20,5)})\n",
    "sns.barplot(x = 'Occupation', y = 'Amount', data = sales_sector)"
   ]
  },
  {
   "attachments": {},
   "cell_type": "markdown",
   "metadata": {},
   "source": [
    "From above graphs we can see that most of the buyers are working in IT, Aviation and Healthcare sector."
   ]
  },
  {
   "attachments": {},
   "cell_type": "markdown",
   "metadata": {},
   "source": [
    "*Product Category*"
   ]
  },
  {
   "cell_type": "code",
   "execution_count": null,
   "metadata": {},
   "outputs": [],
   "source": [
    "e = sns.countplot(data = data, x = 'Product_Category') # bar graph, hue for legends\n",
    "\n",
    "sns.set(rc={'figure.figsize':(15,5)})\n",
    "for bars in e.containers:\n",
    "    e.bar_label(bars)       # for values labels"
   ]
  },
  {
   "cell_type": "code",
   "execution_count": null,
   "metadata": {},
   "outputs": [],
   "source": [
    "sales_product = data.groupby(['Product_Category'], as_index = False) ['Amount'].sum().sort_values(by=\"Amount\",ascending = False).head(10)\n",
    "\n",
    "sns.set(rc={'figure.figsize':(20,5)})\n",
    "sns.barplot(x = 'Product_Category', y = 'Amount', data = sales_product)"
   ]
  },
  {
   "attachments": {},
   "cell_type": "markdown",
   "metadata": {},
   "source": [
    "From above graphs we can see that most of the sold products are from Food, Footwear and Electronics category"
   ]
  },
  {
   "cell_type": "code",
   "execution_count": null,
   "metadata": {},
   "outputs": [],
   "source": [
    "sales_id = data.groupby(['Product_ID'], as_index = False) ['Orders'].sum().sort_values(by=\"Orders\",ascending = False).head(10)\n",
    "\n",
    "sns.set(rc={'figure.figsize':(20,5)})\n",
    "sns.barplot(x = 'Product_ID', y = 'Orders', data = sales_id)"
   ]
  },
  {
   "cell_type": "code",
   "execution_count": null,
   "metadata": {},
   "outputs": [],
   "source": [
    "# top 10 most sold products (some thing as above)\n",
    "\n",
    "fig1, ax1 = plt.subplot(figsize=(12,7))\n",
    "data.groupby('Product_ID')['Orders'].sum().nlargest(10).sort_values(ascending=False).plot(kind='bar')"
   ]
  },
  {
   "attachments": {},
   "cell_type": "markdown",
   "metadata": {},
   "source": [
    "**Conclusion:**"
   ]
  },
  {
   "attachments": {},
   "cell_type": "markdown",
   "metadata": {},
   "source": [
    "*Married women age group 26-35 yrs form UP, Maharashtra and Karnataka working in IT, Aviation and Healthcare are more likely to products from Food, Footwear and Electronics category.*"
   ]
  }
 ],
 "metadata": {
  "kernelspec": {
   "display_name": "Python 3",
   "language": "python",
   "name": "python3"
  },
  "language_info": {
   "codemirror_mode": {
    "name": "ipython",
    "version": 3
   },
   "file_extension": ".py",
   "mimetype": "text/x-python",
   "name": "python",
   "nbconvert_exporter": "python",
   "pygments_lexer": "ipython3",
   "version": "3.11.0"
  },
  "orig_nbformat": 4
 },
 "nbformat": 4,
 "nbformat_minor": 2
}
